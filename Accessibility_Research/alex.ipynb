{
 "cells": [
  {
   "cell_type": "markdown",
   "metadata": {},
   "source": [
    "# Accessibility Research"
   ]
  },
  {
   "cell_type": "markdown",
   "metadata": {},
   "source": [
    "## Source\n",
    "\n",
    "> \n",
    "> https://www.acm.org/binaries/content/assets/site-wide/acm-style-guide-wcag-2.0-level-a.pdf\n",
    "> \n",
    "\n",
    "I got this source from the ACM website"
   ]
  },
  {
   "cell_type": "markdown",
   "metadata": {},
   "source": [
    "## Media Types"
   ]
  },
  {
   "cell_type": "markdown",
   "metadata": {},
   "source": [
    "### Images\n",
    "\n",
    "> Sumary\n",
    "><br> \n",
    "><br> \n",
    "><br> \n",
    "><br> \n",
    "\n",
    "<br> \n",
    "\n",
    "**providing alt text for images** \n",
    "\n",
    "<br> \n",
    "this is something I have done before, so I am pretty comfortable with it, but basically in css, the <img> tag allows you to define an alt=\"\" attribuite. \n",
    "Here is where ACM/WCAG states that we need to insert an appropriate, concise, and meaningful replacement for the image. \n",
    "<br> \n",
    "For images who do not convey any meaning or are redudnant we can just have the alt as null. \n",
    "<br> \n",
    "This is espcially helpful for those who are visually impaired / blind.\n",
    "<br>\n",
    "\n",
    "**more complex images**\n",
    "\n",
    "<br> \n",
    "for more complex images, ACM states that we need to be longer for something like a map. \n",
    "\n",
    "<br> \n",
    "\n",
    "**important background images**\n",
    "\n",
    "<br> \n",
    "\n",
    "this is a little more nuanced i think, for example, they use a search bar to show this. Basically for background images that have more meaning, we need to include visible equivalents. So if we use a magnifying glass as a button/image to indicate search we also need to display \"SEARCH\"\n",
    "\n",
    "<br> \n",
    "\n",
    "### color contrast\n",
    "\n",
    "<br> \n",
    "For this practice, think of like a google form. When you miss information when you hit submit, the field you missed is usually highlighed red. For visually impaired/color blind individuals, we need a solution. \n",
    "<br> \n",
    "ACM states that one alternative is using a character to indicate a required field you missed. For example * First Name, in this case the \"*\" symbol represents a required field. Adding this in addition to the color contrast can help. \n",
    "<br> \n",
    "\n",
    "**text/image contrast** \n",
    "\n",
    "<br> \n",
    "ensure that there is enough contrast between the text and the background, like white background versus blue text is okay, but if we did a light gray against white, it would be poor practice. \n",
    "\n"
   ]
  }
 ],
 "metadata": {
  "language_info": {
   "name": "python"
  }
 },
 "nbformat": 4,
 "nbformat_minor": 2
}
